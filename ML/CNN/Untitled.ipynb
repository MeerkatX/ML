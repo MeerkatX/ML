{
 "cells": [
  {
   "cell_type": "markdown",
   "metadata": {},
   "source": [
    "### Batch Normalization有一点问题\n",
    "###### 一开始需要安装包future，这个自行安装\n",
    "\n",
    "###### Fully Connected Nets with Batch Normalization处有部分问题\n",
    "\n",
    ">Now that you have a working implementation for batch normalization, \n",
    "go back to your FullyConnectedNet in the file **cs2312n**/classifiers/fc_net.py.\n",
    "\n",
    "这个文件夹名称没改成DSVC<br><br>\n",
    "\n",
    "**fc_net.py**中**loss()**下需要自己写的部分，根据学长CS231n的实现大约298行左右会用到**affine_batchnorm_relu_forward(...)**函数，但是这个函数在DSVC的**layer_utils.py**中没有。layer_utils.py里面有**conv_bn_relu_forward(...)**函数，这个在学长cs231n中的代码中没有所以可能是学长实现的时候自己改了部分。\n",
    "\n",
    "在layer_utils.py中添加affine_batchnorm_relu_forward后运行顺利，没有别的问题\n",
    "\n",
    "### Fully-Connected Neural Nets没问题\n",
    "### dropout没问题\n",
    "### Convolutional Networks没问题\n",
    "###### 在三种图片显示的部分会报FutureWarning，应该是包版本的问题，不影响"
   ]
  }
 ],
 "metadata": {
  "kernelspec": {
   "display_name": "Python 3",
   "language": "python",
   "name": "python3"
  },
  "language_info": {
   "codemirror_mode": {
    "name": "ipython",
    "version": 3
   },
   "file_extension": ".py",
   "mimetype": "text/x-python",
   "name": "python",
   "nbconvert_exporter": "python",
   "pygments_lexer": "ipython3",
   "version": "3.6.2"
  }
 },
 "nbformat": 4,
 "nbformat_minor": 2
}
